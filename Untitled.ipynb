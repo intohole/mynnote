{
 "cells": [
  {
   "cell_type": "code",
   "execution_count": 1,
   "metadata": {},
   "outputs": [
    {
     "name": "stdout",
     "output_type": "stream",
     "text": [
      "hello world\n"
     ]
    }
   ],
   "source": [
    "print \"hello world\""
   ]
  },
  {
   "cell_type": "code",
   "execution_count": 2,
   "metadata": {
    "collapsed": true
   },
   "outputs": [],
   "source": [
    "import requests \n",
    "import json\n"
   ]
  },
  {
   "cell_type": "code",
   "execution_count": null,
   "metadata": {},
   "outputs": [],
   "source": [
    "headers = {\n",
    "    'User-Agent': 'Mozilla/5.0 (Linux; Android 6.0; Nexus 5 Build/MRA58N) AppleWebKit/537.36 (KHTML, like Gecko) Chrome/65.0.3325.162 Mobile Safari/537.36',\n",
    "    'Cookie': 'device_id=311962c0db0a69f1b26cf6ba52d3dcf1; s=gm126fjy8e; bid=57b0302c6f3e15ee305280ad53d4d95d_jb1nng1p; __utmz=1.1512963959.1.1.utmcsr=(direct)|utmccn=(direct)|utmcmd=(none); aliyungf_tc=AQAAAFBZdEgxPwsA7Up4Kus8HYSfE/IZ; xq_a_token=19f5e0044f535b6b1446bb8ae1da980a48bbe850; xq_a_token.sig=aaTVFAX9sVcWtOiu-5L8dL-p40k; xq_r_token=6d30415b5f855c12fd74c6e2fb7662ea40272056; xq_r_token.sig=rEvIjgpbifr6Q_Cxwx7bjvarJG0; u=301522133368815; Hm_lvt_1db88642e346389874251b5a1eded6e3=1522133369; __utmc=1; __utma=1.1590076335.1512963959.1522133370.1522136808.4; __utmt=1; __utmb=1.1.10.1522136808; Hm_lpvt_1db88642e346389874251b5a1eded6e3=1522136808',\n",
    "    'Host': 'xueqiu.com',\n",
    "    'Upgrade-Insecure-Requests': '1'\n",
    "}\n",
    "\n",
    "proxies = { \"http\": \"http://61.143.19.114:33829\", \"https\": \"http://58.19.81.193:18118\", }   \n",
    "\n",
    "\n",
    "response= requests.get('https://xueqiu.com/v4/statuses/public_timeline_by_category.json?since_id=-1&max_id=341898&count=15&category=6', headers = headers,proxies = proxies)\n",
    "\n",
    "print response.text\n",
    "\n"
   ]
  },
  {
   "cell_type": "code",
   "execution_count": null,
   "metadata": {
    "collapsed": true
   },
   "outputs": [],
   "source": []
  }
 ],
 "metadata": {
  "kernelspec": {
   "display_name": "Python 2",
   "language": "python",
   "name": "python2"
  },
  "language_info": {
   "codemirror_mode": {
    "name": "ipython",
    "version": 2
   },
   "file_extension": ".py",
   "mimetype": "text/x-python",
   "name": "python",
   "nbconvert_exporter": "python",
   "pygments_lexer": "ipython2",
   "version": "2.7.12"
  }
 },
 "nbformat": 4,
 "nbformat_minor": 2
}
