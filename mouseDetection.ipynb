{
 "cells": [
  {
   "cell_type": "code",
   "execution_count": 7,
   "metadata": {},
   "outputs": [],
   "source": [
    "import numpy as np\n",
    "import pandas as pd\n",
    "\n",
    "\n",
    "data = pd.read_table('dsjtzs_txfz_training.txt',sep = ' ', names = ['id','mouse_track','goal','label'])\n",
    "\n",
    "\n",
    "data['mouse_track'] = data['mouse_track'].apply(\n",
    "    lambda x:[list(map(float,point.split(','))) for point in x.split(';')[:-1]]\n",
    ")\n",
    "\n",
    "data['goal'] = data['goal'].apply(lambda x: list(map(float,x.split(','))))\n",
    "\n",
    "\n",
    "\n",
    "\n",
    "\n"
   ]
  },
  {
   "cell_type": "code",
   "execution_count": null,
   "metadata": {
    "collapsed": true
   },
   "outputs": [],
   "source": []
  }
 ],
 "metadata": {
  "kernelspec": {
   "display_name": "Python 2",
   "language": "python",
   "name": "python2"
  },
  "language_info": {
   "codemirror_mode": {
    "name": "ipython",
    "version": 2
   },
   "file_extension": ".py",
   "mimetype": "text/x-python",
   "name": "python",
   "nbconvert_exporter": "python",
   "pygments_lexer": "ipython2",
   "version": "2.7.12"
  }
 },
 "nbformat": 4,
 "nbformat_minor": 2
}
