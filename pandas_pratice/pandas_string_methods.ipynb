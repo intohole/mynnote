{
 "cells": [
  {
   "cell_type": "markdown",
   "metadata": {},
   "source": [
    "## 怎么在pandas中使用字符串方法？ "
   ]
  },
  {
   "cell_type": "code",
   "execution_count": 1,
   "metadata": {},
   "outputs": [
    {
     "data": {
      "text/plain": [
       "'HELLO'"
      ]
     },
     "execution_count": 1,
     "metadata": {},
     "output_type": "execute_result"
    }
   ],
   "source": [
    "'hello'.upper()"
   ]
  },
  {
   "cell_type": "code",
   "execution_count": 2,
   "metadata": {
    "collapsed": true
   },
   "outputs": [],
   "source": [
    "import pandas as pd"
   ]
  },
  {
   "cell_type": "code",
   "execution_count": 3,
   "metadata": {
    "collapsed": true
   },
   "outputs": [],
   "source": [
    "orders = pd.read_table('https://raw.githubusercontent.com/intohole/pandas-videos/master/data/chipotle.tsv')"
   ]
  },
  {
   "cell_type": "code",
   "execution_count": 4,
   "metadata": {},
   "outputs": [
    {
     "data": {
      "text/html": [
       "<div>\n",
       "<style scoped>\n",
       "    .dataframe tbody tr th:only-of-type {\n",
       "        vertical-align: middle;\n",
       "    }\n",
       "\n",
       "    .dataframe tbody tr th {\n",
       "        vertical-align: top;\n",
       "    }\n",
       "\n",
       "    .dataframe thead th {\n",
       "        text-align: right;\n",
       "    }\n",
       "</style>\n",
       "<table border=\"1\" class=\"dataframe\">\n",
       "  <thead>\n",
       "    <tr style=\"text-align: right;\">\n",
       "      <th></th>\n",
       "      <th>order_id</th>\n",
       "      <th>quantity</th>\n",
       "      <th>item_name</th>\n",
       "      <th>choice_description</th>\n",
       "      <th>item_price</th>\n",
       "    </tr>\n",
       "  </thead>\n",
       "  <tbody>\n",
       "    <tr>\n",
       "      <th>0</th>\n",
       "      <td>1</td>\n",
       "      <td>1</td>\n",
       "      <td>Chips and Fresh Tomato Salsa</td>\n",
       "      <td>NaN</td>\n",
       "      <td>$2.39</td>\n",
       "    </tr>\n",
       "    <tr>\n",
       "      <th>1</th>\n",
       "      <td>1</td>\n",
       "      <td>1</td>\n",
       "      <td>Izze</td>\n",
       "      <td>[Clementine]</td>\n",
       "      <td>$3.39</td>\n",
       "    </tr>\n",
       "    <tr>\n",
       "      <th>2</th>\n",
       "      <td>1</td>\n",
       "      <td>1</td>\n",
       "      <td>Nantucket Nectar</td>\n",
       "      <td>[Apple]</td>\n",
       "      <td>$3.39</td>\n",
       "    </tr>\n",
       "    <tr>\n",
       "      <th>3</th>\n",
       "      <td>1</td>\n",
       "      <td>1</td>\n",
       "      <td>Chips and Tomatillo-Green Chili Salsa</td>\n",
       "      <td>NaN</td>\n",
       "      <td>$2.39</td>\n",
       "    </tr>\n",
       "    <tr>\n",
       "      <th>4</th>\n",
       "      <td>2</td>\n",
       "      <td>2</td>\n",
       "      <td>Chicken Bowl</td>\n",
       "      <td>[Tomatillo-Red Chili Salsa (Hot), [Black Beans...</td>\n",
       "      <td>$16.98</td>\n",
       "    </tr>\n",
       "  </tbody>\n",
       "</table>\n",
       "</div>"
      ],
      "text/plain": [
       "   order_id  quantity                              item_name  \\\n",
       "0         1         1           Chips and Fresh Tomato Salsa   \n",
       "1         1         1                                   Izze   \n",
       "2         1         1                       Nantucket Nectar   \n",
       "3         1         1  Chips and Tomatillo-Green Chili Salsa   \n",
       "4         2         2                           Chicken Bowl   \n",
       "\n",
       "                                  choice_description item_price  \n",
       "0                                                NaN     $2.39   \n",
       "1                                       [Clementine]     $3.39   \n",
       "2                                            [Apple]     $3.39   \n",
       "3                                                NaN     $2.39   \n",
       "4  [Tomatillo-Red Chili Salsa (Hot), [Black Beans...    $16.98   "
      ]
     },
     "execution_count": 4,
     "metadata": {},
     "output_type": "execute_result"
    }
   ],
   "source": [
    "orders.head()"
   ]
  },
  {
   "cell_type": "code",
   "execution_count": 7,
   "metadata": {},
   "outputs": [
    {
     "data": {
      "text/plain": [
       "0             CHIPS AND FRESH TOMATO SALSA\n",
       "1                                     IZZE\n",
       "2                         NANTUCKET NECTAR\n",
       "3    CHIPS AND TOMATILLO-GREEN CHILI SALSA\n",
       "4                             CHICKEN BOWL\n",
       "Name: item_name, dtype: object"
      ]
     },
     "execution_count": 7,
     "metadata": {},
     "output_type": "execute_result"
    }
   ],
   "source": [
    "orders.item_name.str.upper().head()"
   ]
  },
  {
   "cell_type": "code",
   "execution_count": 11,
   "metadata": {},
   "outputs": [
    {
     "data": {
      "text/plain": [
       "0    False\n",
       "1    False\n",
       "2    False\n",
       "3    False\n",
       "4     True\n",
       "5     True\n",
       "6    False\n",
       "7    False\n",
       "8    False\n",
       "9    False\n",
       "Name: item_name, dtype: bool"
      ]
     },
     "execution_count": 11,
     "metadata": {},
     "output_type": "execute_result"
    }
   ],
   "source": [
    "orders.item_name.str.contains('Chicken').head(10)"
   ]
  },
  {
   "cell_type": "code",
   "execution_count": 12,
   "metadata": {},
   "outputs": [
    {
     "data": {
      "text/plain": [
       "0                                                     NaN\n",
       "1                                             Clementine \n",
       "2                                                  Apple \n",
       "3                                                     NaN\n",
       "4        Tomatillo-Red Chili Salsa (Hot),  Black Beans...\n",
       "5        Fresh Tomato Salsa (Mild),  Rice, Cheese, Sou...\n",
       "6                                                     NaN\n",
       "7        Tomatillo Red Chili Salsa,  Fajita Vegetables...\n",
       "8        Tomatillo Green Chili Salsa,  Pinto Beans, Ch...\n",
       "9        Fresh Tomato Salsa,  Rice, Black Beans, Pinto...\n",
       "10                                                    NaN\n",
       "11       Roasted Chili Corn Salsa,  Fajita Vegetables,...\n",
       "12       Roasted Chili Corn Salsa,  Rice, Black Beans,...\n",
       "13       Fresh Tomato Salsa,  Fajita Vegetables, Rice,...\n",
       "14                                                    NaN\n",
       "15                                                    NaN\n",
       "16       Tomatillo-Green Chili Salsa (Medium),  Pinto ...\n",
       "17       Fresh Tomato Salsa (Mild),  Black Beans, Rice...\n",
       "18                                                Sprite \n",
       "19       Tomatillo Red Chili Salsa,  Fajita Vegetables...\n",
       "20                                                    NaN\n",
       "21        Fresh Tomato Salsa (Mild), Tomatillo-Green C...\n",
       "22                                    Pomegranate Cherry \n",
       "23        Tomatillo-Green Chili Salsa (Medium), Tomati...\n",
       "24                                            Grapefruit \n",
       "25                                                    NaN\n",
       "26       Roasted Chili Corn Salsa (Medium),  Pinto Bea...\n",
       "27        Tomatillo-Green Chili Salsa (Medium), Roaste...\n",
       "28                                            Dr. Pepper \n",
       "29       Tomatillo-Green Chili Salsa (Medium),  Pinto ...\n",
       "                              ...                        \n",
       "4592     Tomatillo Red Chili Salsa,  Rice, Fajita Vege...\n",
       "4593     Roasted Chili Corn Salsa,  Rice, Sour Cream, ...\n",
       "4594     Roasted Chili Corn Salsa,  Pinto Beans, Sour ...\n",
       "4595     Tomatillo Green Chili Salsa,  Rice, Black Bea...\n",
       "4596                                                  NaN\n",
       "4597                                              Nestea \n",
       "4598                                                  NaN\n",
       "4599         Roasted Chili Corn Salsa,  Cheese, Lettuce  \n",
       "4600                                                  NaN\n",
       "4601                                           Diet Coke \n",
       "4602                         Tomatillo Green Chili Salsa \n",
       "4603                         Tomatillo Green Chili Salsa \n",
       "4604     Fresh Tomato Salsa,  Rice, Black Beans, Chees...\n",
       "4605                                                  NaN\n",
       "4606                                                Coke \n",
       "4607     Tomatillo Green Chili Salsa,  Rice, Cheese, S...\n",
       "4608     Tomatillo Red Chili Salsa,  Fajita Vegetables...\n",
       "4609                                              Sprite \n",
       "4610     Fresh Tomato Salsa,  Rice, Sour Cream, Cheese...\n",
       "4611     Tomatillo Green Chili Salsa,  Rice, Fajita Ve...\n",
       "4612     Fresh Tomato Salsa,  Fajita Vegetables, Rice,...\n",
       "4613                                                  NaN\n",
       "4614                                                  NaN\n",
       "4615      Fresh Tomato Salsa,  Rice, Cheese, Sour Cream  \n",
       "4616                                                  NaN\n",
       "4617     Fresh Tomato Salsa,  Rice, Black Beans, Sour ...\n",
       "4618     Fresh Tomato Salsa,  Rice, Sour Cream, Cheese...\n",
       "4619     Fresh Tomato Salsa,  Fajita Vegetables, Pinto...\n",
       "4620     Fresh Tomato Salsa,  Fajita Vegetables, Lettu...\n",
       "4621     Fresh Tomato Salsa,  Fajita Vegetables, Pinto...\n",
       "Name: choice_description, Length: 4622, dtype: object"
      ]
     },
     "execution_count": 12,
     "metadata": {},
     "output_type": "execute_result"
    }
   ],
   "source": [
    "orders.choice_description.str.replace('[\\[\\]]',' ')"
   ]
  },
  {
   "cell_type": "code",
   "execution_count": null,
   "metadata": {
    "collapsed": true
   },
   "outputs": [],
   "source": []
  }
 ],
 "metadata": {
  "kernelspec": {
   "display_name": "Python 2",
   "language": "python",
   "name": "python2"
  },
  "language_info": {
   "codemirror_mode": {
    "name": "ipython",
    "version": 2
   },
   "file_extension": ".py",
   "mimetype": "text/x-python",
   "name": "python",
   "nbconvert_exporter": "python",
   "pygments_lexer": "ipython2",
   "version": "2.7.12"
  }
 },
 "nbformat": 4,
 "nbformat_minor": 2
}
